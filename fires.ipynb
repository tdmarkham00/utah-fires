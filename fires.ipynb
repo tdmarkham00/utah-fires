{
  "cells": [
    {
      "cell_type": "code",
      "execution_count": 11,
      "metadata": {
        "id": "o0LcFDzneDSi"
      },
      "outputs": [],
      "source": [
        "import pandas as pd\n",
        "import numpy as np\n",
        "import tensorflow as tf\n",
        "from sklearn.pipeline import Pipeline\n",
        "from sklearn.model_selection import train_test_split, GridSearchCV\n",
        "from sklearn.preprocessing import StandardScaler\n",
        "from sklearn.impute import SimpleImputer\n",
        "from sklearn.metrics import accuracy_score\n",
        "from sklearn.ensemble import RandomForestClassifier"
      ]
    },
    {
      "cell_type": "code",
      "execution_count": 12,
      "metadata": {
        "colab": {
          "base_uri": "https://localhost:8080/",
          "height": 204
        },
        "id": "wJWlwiWweFg9",
        "outputId": "e03b8efd-abc2-4019-eb79-34787b4fde3e"
      },
      "outputs": [
        {
          "data": {
            "text/html": [
              "\n",
              "  <div id=\"df-28c86395-aac2-4ae9-b2f3-907c98b37e45\">\n",
              "    <div class=\"colab-df-container\">\n",
              "      <div>\n",
              "<style scoped>\n",
              "    .dataframe tbody tr th:only-of-type {\n",
              "        vertical-align: middle;\n",
              "    }\n",
              "\n",
              "    .dataframe tbody tr th {\n",
              "        vertical-align: top;\n",
              "    }\n",
              "\n",
              "    .dataframe thead th {\n",
              "        text-align: right;\n",
              "    }\n",
              "</style>\n",
              "<table border=\"1\" class=\"dataframe\">\n",
              "  <thead>\n",
              "    <tr style=\"text-align: right;\">\n",
              "      <th></th>\n",
              "      <th>FIRE_YEAR</th>\n",
              "      <th>DISCOVERY_DOY</th>\n",
              "      <th>DISCOVERY_TIME</th>\n",
              "      <th>LATITUDE</th>\n",
              "      <th>LONGITUDE</th>\n",
              "      <th>FIRE_SIZE</th>\n",
              "      <th>NWCG_CAUSE_CLASSIFICATION</th>\n",
              "    </tr>\n",
              "  </thead>\n",
              "  <tbody>\n",
              "    <tr>\n",
              "      <th>0</th>\n",
              "      <td>2005</td>\n",
              "      <td>179</td>\n",
              "      <td>1654.0</td>\n",
              "      <td>40.088889</td>\n",
              "      <td>-111.378333</td>\n",
              "      <td>0.1</td>\n",
              "      <td>Natural</td>\n",
              "    </tr>\n",
              "    <tr>\n",
              "      <th>1</th>\n",
              "      <td>2005</td>\n",
              "      <td>199</td>\n",
              "      <td>1600.0</td>\n",
              "      <td>41.264167</td>\n",
              "      <td>-111.795833</td>\n",
              "      <td>0.1</td>\n",
              "      <td>Human</td>\n",
              "    </tr>\n",
              "    <tr>\n",
              "      <th>2</th>\n",
              "      <td>2005</td>\n",
              "      <td>223</td>\n",
              "      <td>600.0</td>\n",
              "      <td>41.258333</td>\n",
              "      <td>-111.849722</td>\n",
              "      <td>0.1</td>\n",
              "      <td>Natural</td>\n",
              "    </tr>\n",
              "    <tr>\n",
              "      <th>3</th>\n",
              "      <td>2005</td>\n",
              "      <td>151</td>\n",
              "      <td>1355.0</td>\n",
              "      <td>39.316667</td>\n",
              "      <td>-111.228333</td>\n",
              "      <td>0.1</td>\n",
              "      <td>Human</td>\n",
              "    </tr>\n",
              "    <tr>\n",
              "      <th>4</th>\n",
              "      <td>2005</td>\n",
              "      <td>145</td>\n",
              "      <td>2115.0</td>\n",
              "      <td>37.871944</td>\n",
              "      <td>-111.658056</td>\n",
              "      <td>0.1</td>\n",
              "      <td>Natural</td>\n",
              "    </tr>\n",
              "  </tbody>\n",
              "</table>\n",
              "</div>\n",
              "      <button class=\"colab-df-convert\" onclick=\"convertToInteractive('df-28c86395-aac2-4ae9-b2f3-907c98b37e45')\"\n",
              "              title=\"Convert this dataframe to an interactive table.\"\n",
              "              style=\"display:none;\">\n",
              "        \n",
              "  <svg xmlns=\"http://www.w3.org/2000/svg\" height=\"24px\"viewBox=\"0 0 24 24\"\n",
              "       width=\"24px\">\n",
              "    <path d=\"M0 0h24v24H0V0z\" fill=\"none\"/>\n",
              "    <path d=\"M18.56 5.44l.94 2.06.94-2.06 2.06-.94-2.06-.94-.94-2.06-.94 2.06-2.06.94zm-11 1L8.5 8.5l.94-2.06 2.06-.94-2.06-.94L8.5 2.5l-.94 2.06-2.06.94zm10 10l.94 2.06.94-2.06 2.06-.94-2.06-.94-.94-2.06-.94 2.06-2.06.94z\"/><path d=\"M17.41 7.96l-1.37-1.37c-.4-.4-.92-.59-1.43-.59-.52 0-1.04.2-1.43.59L10.3 9.45l-7.72 7.72c-.78.78-.78 2.05 0 2.83L4 21.41c.39.39.9.59 1.41.59.51 0 1.02-.2 1.41-.59l7.78-7.78 2.81-2.81c.8-.78.8-2.07 0-2.86zM5.41 20L4 18.59l7.72-7.72 1.47 1.35L5.41 20z\"/>\n",
              "  </svg>\n",
              "      </button>\n",
              "      \n",
              "  <style>\n",
              "    .colab-df-container {\n",
              "      display:flex;\n",
              "      flex-wrap:wrap;\n",
              "      gap: 12px;\n",
              "    }\n",
              "\n",
              "    .colab-df-convert {\n",
              "      background-color: #E8F0FE;\n",
              "      border: none;\n",
              "      border-radius: 50%;\n",
              "      cursor: pointer;\n",
              "      display: none;\n",
              "      fill: #1967D2;\n",
              "      height: 32px;\n",
              "      padding: 0 0 0 0;\n",
              "      width: 32px;\n",
              "    }\n",
              "\n",
              "    .colab-df-convert:hover {\n",
              "      background-color: #E2EBFA;\n",
              "      box-shadow: 0px 1px 2px rgba(60, 64, 67, 0.3), 0px 1px 3px 1px rgba(60, 64, 67, 0.15);\n",
              "      fill: #174EA6;\n",
              "    }\n",
              "\n",
              "    [theme=dark] .colab-df-convert {\n",
              "      background-color: #3B4455;\n",
              "      fill: #D2E3FC;\n",
              "    }\n",
              "\n",
              "    [theme=dark] .colab-df-convert:hover {\n",
              "      background-color: #434B5C;\n",
              "      box-shadow: 0px 1px 3px 1px rgba(0, 0, 0, 0.15);\n",
              "      filter: drop-shadow(0px 1px 2px rgba(0, 0, 0, 0.3));\n",
              "      fill: #FFFFFF;\n",
              "    }\n",
              "  </style>\n",
              "\n",
              "      <script>\n",
              "        const buttonEl =\n",
              "          document.querySelector('#df-28c86395-aac2-4ae9-b2f3-907c98b37e45 button.colab-df-convert');\n",
              "        buttonEl.style.display =\n",
              "          google.colab.kernel.accessAllowed ? 'block' : 'none';\n",
              "\n",
              "        async function convertToInteractive(key) {\n",
              "          const element = document.querySelector('#df-28c86395-aac2-4ae9-b2f3-907c98b37e45');\n",
              "          const dataTable =\n",
              "            await google.colab.kernel.invokeFunction('convertToInteractive',\n",
              "                                                     [key], {});\n",
              "          if (!dataTable) return;\n",
              "\n",
              "          const docLinkHtml = 'Like what you see? Visit the ' +\n",
              "            '<a target=\"_blank\" href=https://colab.research.google.com/notebooks/data_table.ipynb>data table notebook</a>'\n",
              "            + ' to learn more about interactive tables.';\n",
              "          element.innerHTML = '';\n",
              "          dataTable['output_type'] = 'display_data';\n",
              "          await google.colab.output.renderOutput(dataTable, element);\n",
              "          const docLink = document.createElement('div');\n",
              "          docLink.innerHTML = docLinkHtml;\n",
              "          element.appendChild(docLink);\n",
              "        }\n",
              "      </script>\n",
              "    </div>\n",
              "  </div>\n",
              "  "
            ],
            "text/plain": [
              "   FIRE_YEAR  DISCOVERY_DOY  DISCOVERY_TIME   LATITUDE   LONGITUDE  FIRE_SIZE  \\\n",
              "0       2005            179          1654.0  40.088889 -111.378333        0.1   \n",
              "1       2005            199          1600.0  41.264167 -111.795833        0.1   \n",
              "2       2005            223           600.0  41.258333 -111.849722        0.1   \n",
              "3       2005            151          1355.0  39.316667 -111.228333        0.1   \n",
              "4       2005            145          2115.0  37.871944 -111.658056        0.1   \n",
              "\n",
              "  NWCG_CAUSE_CLASSIFICATION  \n",
              "0                   Natural  \n",
              "1                     Human  \n",
              "2                   Natural  \n",
              "3                     Human  \n",
              "4                   Natural  "
            ]
          },
          "execution_count": 12,
          "metadata": {},
          "output_type": "execute_result"
        }
      ],
      "source": [
        "df = pd.read_csv('https://raw.githubusercontent.com/esnt/Data/main/Fires/utah_fires.csv')\n",
        "df.head()"
      ]
    },
    {
      "attachments": {},
      "cell_type": "markdown",
      "metadata": {
        "id": "giHmYBeBfTj9"
      },
      "source": [
        "Data Preprocessing"
      ]
    },
    {
      "cell_type": "code",
      "execution_count": 13,
      "metadata": {
        "id": "BRdvANN0ei-3"
      },
      "outputs": [],
      "source": [
        "X = df.iloc[:,0:6] # Seperating features\n",
        "y = df['NWCG_CAUSE_CLASSIFICATION']\n",
        "y = np.where(y == 'Human', 1, 0) # Converting output to binary output where 1 represents human\n",
        "X_train, X_test, y_train, y_test = train_test_split(X, y, test_size=.25, random_state=307)\n",
        "\n",
        "preprocessor = Pipeline([\n",
        "    ('imputer', SimpleImputer(strategy='mean', missing_values=np.nan)),\n",
        "    ('scaler', StandardScaler())\n",
        "])\n",
        "\n",
        "X_train = preprocessor.fit_transform(X_train)\n",
        "X_test = preprocessor.transform(X_test)"
      ]
    },
    {
      "attachments": {},
      "cell_type": "markdown",
      "metadata": {
        "id": "QTVBa8JPfWzg"
      },
      "source": [
        "Random Forest"
      ]
    },
    {
      "cell_type": "code",
      "execution_count": 21,
      "metadata": {
        "id": "fBfudi6siufS"
      },
      "outputs": [],
      "source": [
        "def evaluate(model, X,y):\n",
        "  preds = model.predict(X)\n",
        "  accuracy = round(accuracy_score(y, preds),3)\n",
        "\n",
        "  print(f'Accuracy: {accuracy}')"
      ]
    },
    {
      "cell_type": "code",
      "execution_count": 15,
      "metadata": {
        "colab": {
          "base_uri": "https://localhost:8080/",
          "height": 115
        },
        "id": "saxHY5oGfYOY",
        "outputId": "28f09c50-d5c6-471b-bfe6-3da996942d55"
      },
      "outputs": [
        {
          "data": {
            "text/html": [
              "<style>#sk-container-id-1 {color: black;background-color: white;}#sk-container-id-1 pre{padding: 0;}#sk-container-id-1 div.sk-toggleable {background-color: white;}#sk-container-id-1 label.sk-toggleable__label {cursor: pointer;display: block;width: 100%;margin-bottom: 0;padding: 0.3em;box-sizing: border-box;text-align: center;}#sk-container-id-1 label.sk-toggleable__label-arrow:before {content: \"▸\";float: left;margin-right: 0.25em;color: #696969;}#sk-container-id-1 label.sk-toggleable__label-arrow:hover:before {color: black;}#sk-container-id-1 div.sk-estimator:hover label.sk-toggleable__label-arrow:before {color: black;}#sk-container-id-1 div.sk-toggleable__content {max-height: 0;max-width: 0;overflow: hidden;text-align: left;background-color: #f0f8ff;}#sk-container-id-1 div.sk-toggleable__content pre {margin: 0.2em;color: black;border-radius: 0.25em;background-color: #f0f8ff;}#sk-container-id-1 input.sk-toggleable__control:checked~div.sk-toggleable__content {max-height: 200px;max-width: 100%;overflow: auto;}#sk-container-id-1 input.sk-toggleable__control:checked~label.sk-toggleable__label-arrow:before {content: \"▾\";}#sk-container-id-1 div.sk-estimator input.sk-toggleable__control:checked~label.sk-toggleable__label {background-color: #d4ebff;}#sk-container-id-1 div.sk-label input.sk-toggleable__control:checked~label.sk-toggleable__label {background-color: #d4ebff;}#sk-container-id-1 input.sk-hidden--visually {border: 0;clip: rect(1px 1px 1px 1px);clip: rect(1px, 1px, 1px, 1px);height: 1px;margin: -1px;overflow: hidden;padding: 0;position: absolute;width: 1px;}#sk-container-id-1 div.sk-estimator {font-family: monospace;background-color: #f0f8ff;border: 1px dotted black;border-radius: 0.25em;box-sizing: border-box;margin-bottom: 0.5em;}#sk-container-id-1 div.sk-estimator:hover {background-color: #d4ebff;}#sk-container-id-1 div.sk-parallel-item::after {content: \"\";width: 100%;border-bottom: 1px solid gray;flex-grow: 1;}#sk-container-id-1 div.sk-label:hover label.sk-toggleable__label {background-color: #d4ebff;}#sk-container-id-1 div.sk-serial::before {content: \"\";position: absolute;border-left: 1px solid gray;box-sizing: border-box;top: 0;bottom: 0;left: 50%;z-index: 0;}#sk-container-id-1 div.sk-serial {display: flex;flex-direction: column;align-items: center;background-color: white;padding-right: 0.2em;padding-left: 0.2em;position: relative;}#sk-container-id-1 div.sk-item {position: relative;z-index: 1;}#sk-container-id-1 div.sk-parallel {display: flex;align-items: stretch;justify-content: center;background-color: white;position: relative;}#sk-container-id-1 div.sk-item::before, #sk-container-id-1 div.sk-parallel-item::before {content: \"\";position: absolute;border-left: 1px solid gray;box-sizing: border-box;top: 0;bottom: 0;left: 50%;z-index: -1;}#sk-container-id-1 div.sk-parallel-item {display: flex;flex-direction: column;z-index: 1;position: relative;background-color: white;}#sk-container-id-1 div.sk-parallel-item:first-child::after {align-self: flex-end;width: 50%;}#sk-container-id-1 div.sk-parallel-item:last-child::after {align-self: flex-start;width: 50%;}#sk-container-id-1 div.sk-parallel-item:only-child::after {width: 0;}#sk-container-id-1 div.sk-dashed-wrapped {border: 1px dashed gray;margin: 0 0.4em 0.5em 0.4em;box-sizing: border-box;padding-bottom: 0.4em;background-color: white;}#sk-container-id-1 div.sk-label label {font-family: monospace;font-weight: bold;display: inline-block;line-height: 1.2em;}#sk-container-id-1 div.sk-label-container {text-align: center;}#sk-container-id-1 div.sk-container {/* jupyter's `normalize.less` sets `[hidden] { display: none; }` but bootstrap.min.css set `[hidden] { display: none !important; }` so we also need the `!important` here to be able to override the default hidden behavior on the sphinx rendered scikit-learn.org. See: https://github.com/scikit-learn/scikit-learn/issues/21755 */display: inline-block !important;position: relative;}#sk-container-id-1 div.sk-text-repr-fallback {display: none;}</style><div id=\"sk-container-id-1\" class=\"sk-top-container\"><div class=\"sk-text-repr-fallback\"><pre>GridSearchCV(estimator=RandomForestClassifier(criterion=&#x27;entropy&#x27;), n_jobs=-1,\n",
              "             param_grid={&#x27;max_depth&#x27;: [5, 10, 15, 20],\n",
              "                         &#x27;min_samples_split&#x27;: array([0.1, 0.2, 0.3, 0.4, 0.5, 0.6, 0.7, 0.8, 0.9, 1. ]),\n",
              "                         &#x27;n_estimators&#x27;: array([100, 200, 300, 400, 500])},\n",
              "             scoring=&#x27;accuracy&#x27;)</pre><b>In a Jupyter environment, please rerun this cell to show the HTML representation or trust the notebook. <br />On GitHub, the HTML representation is unable to render, please try loading this page with nbviewer.org.</b></div><div class=\"sk-container\" hidden><div class=\"sk-item sk-dashed-wrapped\"><div class=\"sk-label-container\"><div class=\"sk-label sk-toggleable\"><input class=\"sk-toggleable__control sk-hidden--visually\" id=\"sk-estimator-id-1\" type=\"checkbox\" ><label for=\"sk-estimator-id-1\" class=\"sk-toggleable__label sk-toggleable__label-arrow\">GridSearchCV</label><div class=\"sk-toggleable__content\"><pre>GridSearchCV(estimator=RandomForestClassifier(criterion=&#x27;entropy&#x27;), n_jobs=-1,\n",
              "             param_grid={&#x27;max_depth&#x27;: [5, 10, 15, 20],\n",
              "                         &#x27;min_samples_split&#x27;: array([0.1, 0.2, 0.3, 0.4, 0.5, 0.6, 0.7, 0.8, 0.9, 1. ]),\n",
              "                         &#x27;n_estimators&#x27;: array([100, 200, 300, 400, 500])},\n",
              "             scoring=&#x27;accuracy&#x27;)</pre></div></div></div><div class=\"sk-parallel\"><div class=\"sk-parallel-item\"><div class=\"sk-item\"><div class=\"sk-label-container\"><div class=\"sk-label sk-toggleable\"><input class=\"sk-toggleable__control sk-hidden--visually\" id=\"sk-estimator-id-2\" type=\"checkbox\" ><label for=\"sk-estimator-id-2\" class=\"sk-toggleable__label sk-toggleable__label-arrow\">estimator: RandomForestClassifier</label><div class=\"sk-toggleable__content\"><pre>RandomForestClassifier(criterion=&#x27;entropy&#x27;)</pre></div></div></div><div class=\"sk-serial\"><div class=\"sk-item\"><div class=\"sk-estimator sk-toggleable\"><input class=\"sk-toggleable__control sk-hidden--visually\" id=\"sk-estimator-id-3\" type=\"checkbox\" ><label for=\"sk-estimator-id-3\" class=\"sk-toggleable__label sk-toggleable__label-arrow\">RandomForestClassifier</label><div class=\"sk-toggleable__content\"><pre>RandomForestClassifier(criterion=&#x27;entropy&#x27;)</pre></div></div></div></div></div></div></div></div></div></div>"
            ],
            "text/plain": [
              "GridSearchCV(estimator=RandomForestClassifier(criterion='entropy'), n_jobs=-1,\n",
              "             param_grid={'max_depth': [5, 10, 15, 20],\n",
              "                         'min_samples_split': array([0.1, 0.2, 0.3, 0.4, 0.5, 0.6, 0.7, 0.8, 0.9, 1. ]),\n",
              "                         'n_estimators': array([100, 200, 300, 400, 500])},\n",
              "             scoring='accuracy')"
            ]
          },
          "execution_count": 15,
          "metadata": {},
          "output_type": "execute_result"
        }
      ],
      "source": [
        "params = {\n",
        "    'n_estimators' : np.arange(100,600,100),\n",
        "    'max_depth' : [5,10,15,20],\n",
        "    'min_samples_split' : np.linspace(.1,1,10,endpoint=True)\n",
        "}\n",
        "\n",
        "clf = GridSearchCV(RandomForestClassifier(criterion='entropy'), param_grid=params, n_jobs=-1, scoring='accuracy')\n",
        "clf.fit(X_train, y_train)"
      ]
    },
    {
      "cell_type": "code",
      "execution_count": 22,
      "metadata": {
        "colab": {
          "base_uri": "https://localhost:8080/"
        },
        "id": "21WUzlYFpoIQ",
        "outputId": "f5b979a3-0033-4862-f3ec-200c95057420"
      },
      "outputs": [
        {
          "name": "stdout",
          "output_type": "stream",
          "text": [
            "Accuracy: 0.774\n"
          ]
        }
      ],
      "source": [
        "evaluate(clf, X_test, y_test) # Test accuracy"
      ]
    },
    {
      "cell_type": "code",
      "execution_count": 26,
      "metadata": {
        "colab": {
          "base_uri": "https://localhost:8080/"
        },
        "id": "bh6kSAxyqxWq",
        "outputId": "6b202114-c551-4d19-8b77-173931ebf6e2"
      },
      "outputs": [
        {
          "name": "stdout",
          "output_type": "stream",
          "text": [
            "Accuracy: 0.771\n"
          ]
        }
      ],
      "source": [
        "evaluate(clf, X_train, y_train) # Train accuracy"
      ]
    },
    {
      "attachments": {},
      "cell_type": "markdown",
      "metadata": {
        "id": "YdEsJgx7i4Jd"
      },
      "source": [
        "Artificial Neural Network"
      ]
    },
    {
      "cell_type": "code",
      "execution_count": 23,
      "metadata": {
        "id": "wHeNlz4mi6q8"
      },
      "outputs": [],
      "source": [
        "tf.random.set_seed(42)\n",
        "ann = tf.keras.Sequential([\n",
        "    tf.keras.layers.InputLayer(input_shape = [X_train.shape[1],]),\n",
        "\n",
        "    tf.keras.layers.Dense(150, activation = 'relu'),\n",
        "\n",
        "    tf.keras.layers.Dense(100, activation = 'relu'),\n",
        "    \n",
        "    tf.keras.layers.Dense(1, activation = 'sigmoid'),\n",
        "])"
      ]
    },
    {
      "cell_type": "code",
      "execution_count": 24,
      "metadata": {
        "id": "Pl6vPezPjJ4q"
      },
      "outputs": [],
      "source": [
        "ann.compile(optimizer=tf.keras.optimizers.Adam(learning_rate=.002),\n",
        "             loss='binary_crossentropy',\n",
        "             metrics=[\"accuracy\"])"
      ]
    },
    {
      "cell_type": "code",
      "execution_count": 25,
      "metadata": {
        "colab": {
          "base_uri": "https://localhost:8080/"
        },
        "id": "TH0984swjNUc",
        "outputId": "713767ee-2f84-4a1b-abe0-1f6657431060"
      },
      "outputs": [
        {
          "name": "stdout",
          "output_type": "stream",
          "text": [
            "Epoch 1/100\n",
            "738/738 [==============================] - 10s 5ms/step - loss: 0.5116 - accuracy: 0.7547 - val_loss: 0.4837 - val_accuracy: 0.7697\n",
            "Epoch 2/100\n",
            "738/738 [==============================] - 3s 4ms/step - loss: 0.4858 - accuracy: 0.7704 - val_loss: 0.4742 - val_accuracy: 0.7786\n",
            "Epoch 3/100\n",
            "738/738 [==============================] - 3s 4ms/step - loss: 0.4777 - accuracy: 0.7759 - val_loss: 0.4661 - val_accuracy: 0.7816\n",
            "Epoch 4/100\n",
            "738/738 [==============================] - 3s 4ms/step - loss: 0.4729 - accuracy: 0.7768 - val_loss: 0.4677 - val_accuracy: 0.7860\n",
            "Epoch 5/100\n",
            "738/738 [==============================] - 4s 5ms/step - loss: 0.4683 - accuracy: 0.7817 - val_loss: 0.4679 - val_accuracy: 0.7790\n",
            "Epoch 6/100\n",
            "738/738 [==============================] - 3s 4ms/step - loss: 0.4652 - accuracy: 0.7833 - val_loss: 0.4633 - val_accuracy: 0.7847\n",
            "Epoch 7/100\n",
            "738/738 [==============================] - 3s 4ms/step - loss: 0.4617 - accuracy: 0.7859 - val_loss: 0.4632 - val_accuracy: 0.7875\n",
            "Epoch 8/100\n",
            "738/738 [==============================] - 3s 4ms/step - loss: 0.4595 - accuracy: 0.7882 - val_loss: 0.4537 - val_accuracy: 0.7903\n",
            "Epoch 9/100\n",
            "738/738 [==============================] - 4s 5ms/step - loss: 0.4554 - accuracy: 0.7881 - val_loss: 0.4550 - val_accuracy: 0.7922\n",
            "Epoch 10/100\n",
            "738/738 [==============================] - 3s 4ms/step - loss: 0.4517 - accuracy: 0.7912 - val_loss: 0.4486 - val_accuracy: 0.7979\n",
            "Epoch 11/100\n",
            "738/738 [==============================] - 3s 4ms/step - loss: 0.4480 - accuracy: 0.7917 - val_loss: 0.4464 - val_accuracy: 0.7969\n",
            "Epoch 12/100\n",
            "738/738 [==============================] - 3s 4ms/step - loss: 0.4438 - accuracy: 0.7947 - val_loss: 0.4425 - val_accuracy: 0.8017\n",
            "Epoch 13/100\n",
            "738/738 [==============================] - 6s 8ms/step - loss: 0.4396 - accuracy: 0.7953 - val_loss: 0.4419 - val_accuracy: 0.7996\n",
            "Epoch 14/100\n",
            "738/738 [==============================] - 5s 7ms/step - loss: 0.4377 - accuracy: 0.8015 - val_loss: 0.4437 - val_accuracy: 0.8035\n",
            "Epoch 15/100\n",
            "738/738 [==============================] - 3s 5ms/step - loss: 0.4342 - accuracy: 0.8013 - val_loss: 0.4407 - val_accuracy: 0.8019\n",
            "Epoch 16/100\n",
            "738/738 [==============================] - 3s 4ms/step - loss: 0.4313 - accuracy: 0.8025 - val_loss: 0.4372 - val_accuracy: 0.8001\n",
            "Epoch 17/100\n",
            "738/738 [==============================] - 3s 4ms/step - loss: 0.4299 - accuracy: 0.8019 - val_loss: 0.4416 - val_accuracy: 0.7991\n",
            "Epoch 18/100\n",
            "738/738 [==============================] - 3s 4ms/step - loss: 0.4267 - accuracy: 0.8060 - val_loss: 0.4331 - val_accuracy: 0.8058\n",
            "Epoch 19/100\n",
            "738/738 [==============================] - 4s 6ms/step - loss: 0.4234 - accuracy: 0.8064 - val_loss: 0.4294 - val_accuracy: 0.8067\n",
            "Epoch 20/100\n",
            "738/738 [==============================] - 3s 4ms/step - loss: 0.4227 - accuracy: 0.8094 - val_loss: 0.4377 - val_accuracy: 0.8063\n",
            "Epoch 21/100\n",
            "738/738 [==============================] - 3s 4ms/step - loss: 0.4208 - accuracy: 0.8075 - val_loss: 0.4290 - val_accuracy: 0.8100\n",
            "Epoch 22/100\n",
            "738/738 [==============================] - 3s 4ms/step - loss: 0.4183 - accuracy: 0.8101 - val_loss: 0.4345 - val_accuracy: 0.8064\n",
            "Epoch 23/100\n",
            "738/738 [==============================] - 4s 6ms/step - loss: 0.4173 - accuracy: 0.8103 - val_loss: 0.4296 - val_accuracy: 0.8044\n",
            "Epoch 24/100\n",
            "738/738 [==============================] - 3s 4ms/step - loss: 0.4149 - accuracy: 0.8112 - val_loss: 0.4291 - val_accuracy: 0.8095\n",
            "Epoch 25/100\n",
            "738/738 [==============================] - 3s 4ms/step - loss: 0.4153 - accuracy: 0.8126 - val_loss: 0.4263 - val_accuracy: 0.8096\n",
            "Epoch 26/100\n",
            "738/738 [==============================] - 3s 4ms/step - loss: 0.4110 - accuracy: 0.8145 - val_loss: 0.4245 - val_accuracy: 0.8124\n",
            "Epoch 27/100\n",
            "738/738 [==============================] - 4s 5ms/step - loss: 0.4095 - accuracy: 0.8171 - val_loss: 0.4330 - val_accuracy: 0.8100\n",
            "Epoch 28/100\n",
            "738/738 [==============================] - 3s 4ms/step - loss: 0.4087 - accuracy: 0.8149 - val_loss: 0.4352 - val_accuracy: 0.8054\n",
            "Epoch 29/100\n",
            "738/738 [==============================] - 3s 4ms/step - loss: 0.4065 - accuracy: 0.8160 - val_loss: 0.4309 - val_accuracy: 0.8099\n",
            "Epoch 30/100\n",
            "738/738 [==============================] - 3s 4ms/step - loss: 0.4071 - accuracy: 0.8175 - val_loss: 0.4343 - val_accuracy: 0.8019\n",
            "Epoch 31/100\n",
            "738/738 [==============================] - 4s 5ms/step - loss: 0.4030 - accuracy: 0.8189 - val_loss: 0.4254 - val_accuracy: 0.8115\n",
            "Epoch 32/100\n",
            "738/738 [==============================] - 3s 4ms/step - loss: 0.4030 - accuracy: 0.8195 - val_loss: 0.4224 - val_accuracy: 0.8155\n",
            "Epoch 33/100\n",
            "738/738 [==============================] - 3s 4ms/step - loss: 0.4001 - accuracy: 0.8207 - val_loss: 0.4228 - val_accuracy: 0.8097\n",
            "Epoch 34/100\n",
            "738/738 [==============================] - 3s 4ms/step - loss: 0.3986 - accuracy: 0.8216 - val_loss: 0.4305 - val_accuracy: 0.8119\n",
            "Epoch 35/100\n",
            "738/738 [==============================] - 3s 5ms/step - loss: 0.3991 - accuracy: 0.8207 - val_loss: 0.4272 - val_accuracy: 0.8129\n",
            "Epoch 36/100\n",
            "738/738 [==============================] - 3s 4ms/step - loss: 0.3970 - accuracy: 0.8225 - val_loss: 0.4299 - val_accuracy: 0.8116\n",
            "Epoch 37/100\n",
            "738/738 [==============================] - 3s 4ms/step - loss: 0.3957 - accuracy: 0.8222 - val_loss: 0.4333 - val_accuracy: 0.8108\n",
            "Epoch 38/100\n",
            "738/738 [==============================] - 3s 4ms/step - loss: 0.3953 - accuracy: 0.8253 - val_loss: 0.4314 - val_accuracy: 0.8050\n",
            "Epoch 39/100\n",
            "738/738 [==============================] - 4s 5ms/step - loss: 0.3924 - accuracy: 0.8243 - val_loss: 0.4284 - val_accuracy: 0.8134\n",
            "Epoch 40/100\n",
            "738/738 [==============================] - 3s 4ms/step - loss: 0.3922 - accuracy: 0.8246 - val_loss: 0.4233 - val_accuracy: 0.8148\n",
            "Epoch 41/100\n",
            "738/738 [==============================] - 3s 4ms/step - loss: 0.3903 - accuracy: 0.8252 - val_loss: 0.4283 - val_accuracy: 0.8086\n",
            "Epoch 42/100\n",
            "738/738 [==============================] - 4s 5ms/step - loss: 0.3904 - accuracy: 0.8259 - val_loss: 0.4243 - val_accuracy: 0.8139\n"
          ]
        }
      ],
      "source": [
        "early_stopping_cb = tf.keras.callbacks.EarlyStopping(patience=10, \n",
        "                                                     restore_best_weights=True)\n",
        "\n",
        "history = ann.fit(X_train, y_train, \n",
        "                   epochs = 100, \n",
        "                   validation_data = (X_test, y_test),\n",
        "                   callbacks=early_stopping_cb)"
      ]
    },
    {
      "cell_type": "code",
      "execution_count": 27,
      "metadata": {
        "colab": {
          "base_uri": "https://localhost:8080/"
        },
        "id": "02_2ixnYjSpF",
        "outputId": "d638cb22-90f0-49a2-9b47-670b10fc8cfc"
      },
      "outputs": [
        {
          "name": "stdout",
          "output_type": "stream",
          "text": [
            "246/246 [==============================] - 1s 2ms/step - loss: 0.4224 - accuracy: 0.8155\n"
          ]
        },
        {
          "data": {
            "text/plain": [
              "[0.4224282205104828, 0.8154550194740295]"
            ]
          },
          "execution_count": 27,
          "metadata": {},
          "output_type": "execute_result"
        }
      ],
      "source": [
        "ann.evaluate(X_test, y_test) # Test Accuracy"
      ]
    },
    {
      "cell_type": "code",
      "execution_count": 28,
      "metadata": {
        "colab": {
          "base_uri": "https://localhost:8080/"
        },
        "id": "Oi3gb-6crhMb",
        "outputId": "513734f8-c469-4b02-b32c-dbe156949e4a"
      },
      "outputs": [
        {
          "name": "stdout",
          "output_type": "stream",
          "text": [
            "738/738 [==============================] - 3s 5ms/step - loss: 0.3885 - accuracy: 0.8247\n"
          ]
        },
        {
          "data": {
            "text/plain": [
              "[0.38852164149284363, 0.8247182369232178]"
            ]
          },
          "execution_count": 28,
          "metadata": {},
          "output_type": "execute_result"
        }
      ],
      "source": [
        "ann.evaluate(X_train, y_train) # Train accuracy"
      ]
    }
  ],
  "metadata": {
    "accelerator": "GPU",
    "colab": {
      "gpuType": "T4",
      "provenance": []
    },
    "kernelspec": {
      "display_name": "Python 3",
      "name": "python3"
    },
    "language_info": {
      "name": "python"
    }
  },
  "nbformat": 4,
  "nbformat_minor": 0
}
